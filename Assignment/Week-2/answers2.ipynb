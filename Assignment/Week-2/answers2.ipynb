{
 "cells": [
  {
   "cell_type": "markdown",
   "id": "14ae69cc",
   "metadata": {},
   "source": [
    "# answers-2.docx\n",
    "\n",
    "Bu not defteri, dosyadaki tüm soruların kısa ve doğru cevaplarını ve gerekli yerlerde örnek Python kodlarını içerir."
   ]
  },
  {
   "cell_type": "markdown",
   "id": "28f2089a",
   "metadata": {},
   "source": [
    "## Soru 1\n",
    "**Hangisi ile fonksiyon oluşturulur?**"
   ]
  },
  {
   "cell_type": "markdown",
   "id": "d686e97a",
   "metadata": {},
   "source": [
    "**Cevap:** `def fonksiyon1():` \n",
    "\n",
    "**Açıklama:** Python'da fonksiyon tanımlamak için `def` anahtar sözcüğü kullanılır. `__init__` sınıf yapıcısıdır, `class` sınıf tanımlar, `const` ve `func` Python anahtar sözcüğü değildir."
   ]
  },
  {
   "cell_type": "markdown",
   "id": "1951badf",
   "metadata": {},
   "source": [
    "## Soru 2\n",
    "Aşağıdaki kod parçasında tür dönüşümünü doğru yapın ve seçeneklerden birini seçin:\n",
    "\n",
    "```python\n",
    "a = .......................(input(\"vize notunuzu girin = \"))\n",
    "\n",
    "# a*5\n",
    "# a+5\n",
    "```\n",
    "_Not: Tür dönüşümü sonrası `a` matematiksel işlemlerde kullanılabilmeli ve **tam sayı** vermeli._"
   ]
  },
  {
   "cell_type": "markdown",
   "id": "2d15e4f6",
   "metadata": {},
   "source": [
    "**Cevap:** `int(input(\"vize notunuzu girin = \"))` \n",
    "\n",
    "**Seçenek:** `int(........)` \n",
    "\n",
    "**Açıklama:** Kullanıcıdan alınan değer `str` olarak gelir. `int(...)` ile tamsayıya çevrilirse `a*5` ve `a+5` gibi işlemler beklenen şekilde **tamsayı** sonuçlar üretir. `float(...)` ondalık üretir, diğer seçenekler Python'a ait değildir."
   ]
  },
  {
   "cell_type": "code",
   "execution_count": null,
   "id": "c21996c8",
   "metadata": {},
   "outputs": [],
   "source": [
    "a = int(input(\"vize notunuzu girin = \"))\n",
    "print(a*5)\n",
    "print(a+5)"
   ]
  },
  {
   "cell_type": "markdown",
   "id": "c5fe44da",
   "metadata": {},
   "source": [
    "## Soru 3\n",
    "**Aşağıdakilerden hangisi karar yapılarında kullanılan deyimlerden birisi değildir?**"
   ]
  },
  {
   "cell_type": "markdown",
   "id": "ff5d30d4",
   "metadata": {},
   "source": [
    "**Cevap:** `def` \n",
    "\n",
    "**Açıklama:** `if/elif/else`, `while`, `break`, `continue` kontrol/karar yapılarında kullanılır; `def` ise fonksiyon tanımlar."
   ]
  },
  {
   "cell_type": "markdown",
   "id": "552ae80a",
   "metadata": {},
   "source": [
    "## Soru 4 — Kavramlar\n",
    "**Encapsulation (Kapsülleme):** Bir sınıfın verilerini ve bu veriler üzerinde çalışan metotlarını bir arada tutup dışarıya sadece kontrollü bir arayüzle (public metotlar/properties) açma ilkesidir.\n",
    "\n",
    "**Inheritance (Kalıtım):** Bir sınıfın başka bir sınıfın nitelik ve davranışlarını devralarak kodun tekrarını azaltması ve hiyerarşi kurmasıdır."
   ]
  },
  {
   "cell_type": "markdown",
   "id": "94940b0f",
   "metadata": {},
   "source": [
    "## Soru 5 — `Insan`, `Ogrenci`, `Hoca` sınıfları ile OOP prensipleri\n",
    "Aşağıdaki örnek; **kalıtım**, **metot aşırı yükleme (overloading)**, **metot ezme (overriding)**, ve **çok biçimlilik (polymorphism)** kavramlarını göstermektedir."
   ]
  },
  {
   "cell_type": "code",
   "execution_count": null,
   "id": "ec840c94",
   "metadata": {},
   "outputs": [],
   "source": [
    "\n",
    "from functools import singledispatchmethod\n",
    "from typing import List\n",
    "\n",
    "class Insan:\n",
    "    def __init__(self, ad: str, yas: int):\n",
    "        self.ad = ad\n",
    "        self.yas = yas\n",
    "\n",
    "    def tanit(self) -> str:\n",
    "        return f\"Ben {self.ad}, {self.yas} yaşındayım.\"\n",
    "\n",
    "    # \"Overloading\" için singledispatchmethod kullanımı (parametre tipine göre davranış)\n",
    "    @singledispatchmethod\n",
    "    def hobi_ekle(self, hobiler):\n",
    "        raise TypeError(\"Desteklenmeyen tip\")\n",
    "\n",
    "    @hobi_ekle.register\n",
    "    def _(self, hobi: str):\n",
    "        print(f\"{self.ad} için tekil hobi eklendi: {hobi}\")\n",
    "\n",
    "    @hobi_ekle.register\n",
    "    def _(self, hobiler: list):\n",
    "        print(f\"{self.ad} için çoklu hobiler eklendi: {', '.join(map(str, hobiler))}\")\n",
    "\n",
    "class Ogrenci(Insan):\n",
    "    def __init__(self, ad: str, yas: int, okul: str, no: int):\n",
    "        super().__init__(ad, yas)\n",
    "        self.okul = okul\n",
    "        self.no = no\n",
    "\n",
    "    # Overriding\n",
    "    def tanit(self) -> str:\n",
    "        return f\"Ben öğrenci {self.ad}, {self.okul}'da okuyorum (No: {self.no}).\"\n",
    "\n",
    "    def ders_al(self, ders: str, kredi: int = 3):\n",
    "        return f\"{self.ad}, {ders} dersini {kredi} kredi ile aldı.\"\n",
    "\n",
    "class Hoca(Insan):\n",
    "    def __init__(self, ad: str, yas: int, unvan: str, bolum: str):\n",
    "        super().__init__(ad, yas)\n",
    "        self.unvan = unvan\n",
    "        self.bolum = bolum\n",
    "\n",
    "    # Overriding\n",
    "    def tanit(self) -> str:\n",
    "        return f\"{self.unvan} {self.ad}, {self.bolum} bölümünde görevli.\"\n",
    "\n",
    "    def not_ver(self, ogrenci: Ogrenci, ders: str, notu: int):\n",
    "        return f\"{self.ad}, {ogrenci.ad} öğrencisine {ders} dersinden {notu} notunu verdi.\"\n",
    "\n",
    "# Polymorphism gösterimi\n",
    "kisiler = [\n",
    "    Insan(\"Ayşe\", 30),\n",
    "    Ogrenci(\"Mehmet\", 20, \"Mühendislik Fakültesi\", 123),\n",
    "    Hoca(\"Selin\", 45, \"Dr. Öğr. Üyesi\", \"Bilgisayar Mühendisliği\"),\n",
    "]\n",
    "\n",
    "for k in kisiler:\n",
    "    print(k.tanit())  # Aynı arayüz (tanit), farklı sınıflarda farklı davranış (polymorphism)\n",
    "\n",
    "# Overloading örnekleri\n",
    "i = Insan(\"Deniz\", 28)\n",
    "i.hobi_ekle(\"Satranç\")\n",
    "i.hobi_ekle([\"Koşu\", \"Yüzme\"])\n",
    "\n",
    "o = Ogrenci(\"Elif\", 21, \"Fen-Edebiyat\", 456)\n",
    "print(o.ders_al(\"Lineer Cebir\"))\n"
   ]
  },
  {
   "cell_type": "markdown",
   "id": "29ca831c",
   "metadata": {},
   "source": [
    "## Soru 6 — `Calisan` ata sınıfı, `MaviYaka` ve `BeyazYaka` alt sınıfları; abstract `Ozgecmis`\n",
    "- `MaviYaka` **3 vardiya**, `BeyazYaka` **2 vardiya** çalışır.\n",
    "- `calis()` metodu alt sınıflarda **overriding** ile farklı çıktılar üretir (\"tezgahta/fabrika içinde\" vs. \"masa başı\").\n",
    "- `Ozgecmis` soyut sınıfı her iki sınıf tarafından doldurulur."
   ]
  },
  {
   "cell_type": "code",
   "execution_count": null,
   "id": "404be126",
   "metadata": {},
   "outputs": [],
   "source": [
    "\n",
    "from abc import ABC, abstractmethod\n",
    "\n",
    "class Ozgecmis(ABC):\n",
    "    @abstractmethod\n",
    "    def ozgecmis(self) -> str:\n",
    "        \"\"\"Özgeçmiş metni döndürür.\"\"\"\n",
    "\n",
    "class Calisan(Ozgecmis):\n",
    "    def __init__(self, ad: str):\n",
    "        self.ad = ad\n",
    "        self.vardiya_sayisi = 0  # Alt sınıf belirleyecek\n",
    "\n",
    "    def calis(self) -> str:\n",
    "        return f\"{self.ad} çalışıyor.\"  # Varsayılan, alt sınıflar override edecek\n",
    "\n",
    "    def ozgecmis(self) -> str:\n",
    "        # İsterseniz alt sınıflar bu metodu genişletebilir\n",
    "        return f\"Ad: {self.ad}\\nVardiya: {self.vardiya_sayisi}\"\n",
    "\n",
    "class MaviYaka(Calisan):\n",
    "    def __init__(self, ad: str):\n",
    "        super().__init__(ad)\n",
    "        self.vardiya_sayisi = 3\n",
    "\n",
    "    # Overriding\n",
    "    def calis(self) -> str:\n",
    "        return f\"{self.ad} fabrikada/tezgahta {self.vardiya_sayisi} vardiya çalışır.\"\n",
    "\n",
    "    # Overriding (abstract metodu zenginleştiriyoruz)\n",
    "    def ozgecmis(self) -> str:\n",
    "        taban = super().ozgecmis()\n",
    "        return taban + \"\\nRol: Mavi Yaka\\nUzmanlık: Üretim, montaj, kalite kontrol\"\n",
    "\n",
    "class BeyazYaka(Calisan):\n",
    "    def __init__(self, ad: str):\n",
    "        super().__init__(ad)\n",
    "        self.vardiya_sayisi = 2\n",
    "\n",
    "    # Overriding\n",
    "    def calis(self) -> str:\n",
    "        return f\"{self.ad} ofiste/masa başında {self.vardiya_sayisi} vardiya çalışır.\"\n",
    "\n",
    "    def ozgecmis(self) -> str:\n",
    "        taban = super().ozgecmis()\n",
    "        return taban + \"\\nRol: Beyaz Yaka\\nUzmanlık: Planlama, raporlama, koordinasyon\"\n",
    "\n",
    "# Nesne türetelim ve davranışları gösterelim\n",
    "m = MaviYaka(\"Ahmet\")\n",
    "b = BeyazYaka(\"Zeynep\")\n",
    "\n",
    "print(m.calis())\n",
    "print(b.calis())\n",
    "\n",
    "# Polymorphism: aynı arayüz (calis/ozgecmis) farklı sınıflarda farklı çıktı\n",
    "calisanlar = [m, b]\n",
    "for c in calisanlar:\n",
    "    print(\"---\")\n",
    "    print(c.ozgecmis())\n"
   ]
  }
 ],
 "metadata": {
  "language_info": {
   "name": "python"
  }
 },
 "nbformat": 4,
 "nbformat_minor": 5
}
