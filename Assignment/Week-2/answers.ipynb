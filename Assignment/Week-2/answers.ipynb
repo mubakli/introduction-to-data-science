{
 "cells": [
  {
   "cell_type": "markdown",
   "id": "6ef0ae70",
   "metadata": {},
   "source": [
    "# sorular.docx — Cevaplar ve Uygulama\n",
    "\n",
    "Bu not defteri, verilen maddelere birebir karşılık gelen sınıf tasarımları, kapsülleme (encapsulation), kalıtım ve çok biçimlilik (polymorphism) örnekleri ile **çalışan** Python kodu içerir."
   ]
  },
  {
   "cell_type": "markdown",
   "id": "dae0c5ae",
   "metadata": {},
   "source": [
    "## Özet (Belgedeki Maddeler)\n",
    "1. **Insan** sınıfı: `isim`, `yas`, `cinsiyet`, `bilgi_ver()`\n",
    "2. **Hoca** (Insan'dan miras): `brans`, `konus()` → \"{isim} adlı hoca {brans} dersini anlatıyor.\"\n",
    "3. **Ogrenci** (Insan'dan miras): `sinif`, `okul_no`, `katil()` → \"{isim} adlı öğrenci {sinif} sınıfında derse katılıyor.\"\n",
    "4. **Ana program**: Nesneler üret, metotları çağır.\n",
    "5. **Kapsülleme**: `yas` ve `okul_no` gizli (private) olsun; `get_*/set_*` metotlarıyla erişim.\n",
    "6. **Polymorphism**: `konus()` hem **Hoca** hem **Ogrenci**'de farklı davransın."
   ]
  },
  {
   "cell_type": "markdown",
   "id": "b27686f4",
   "metadata": {},
   "source": [
    "## Uygulama — Sınıflar ve Metotlar"
   ]
  },
  {
   "cell_type": "code",
   "execution_count": null,
   "id": "f3d8fc80",
   "metadata": {},
   "outputs": [],
   "source": [
    "\n",
    "from __future__ import annotations\n",
    "from typing import Optional\n",
    "\n",
    "class Insan:\n",
    "    \"\"\"\n",
    "    Temel sınıf.\n",
    "    - isim: str\n",
    "    - __yas: int (private - encapsulation)\n",
    "    - cinsiyet: str\n",
    "    \"\"\"\n",
    "    def __init__(self, isim: str, yas: int, cinsiyet: str):\n",
    "        self.isim = isim\n",
    "        self.__yas = None  # set_yas ile doğrulansın\n",
    "        self.cinsiyet = cinsiyet\n",
    "        self.set_yas(yas)\n",
    "\n",
    "    # Encapsulation: getter / setter\n",
    "    def get_yas(self) -> int:\n",
    "        return self.__yas\n",
    "\n",
    "    def set_yas(self, yeni_yas: int) -> None:\n",
    "        if not isinstance(yeni_yas, int):\n",
    "            raise TypeError(\"yas tamsayı olmalıdır\")\n",
    "        if yeni_yas < 0:\n",
    "            raise ValueError(\"yas negatif olamaz\")\n",
    "        self.__yas = yeni_yas\n",
    "\n",
    "    # İsteğe bağlı: property ile güvenli kısayol\n",
    "    yas = property(get_yas, set_yas)\n",
    "\n",
    "    def bilgi_ver(self) -> str:\n",
    "        return f\"İsim: {self.isim} | Yaş: {self.get_yas()} | Cinsiyet: {self.cinsiyet}\"\n",
    "\n",
    "    # Polymorphism için taban bir konus tanımı (override edilecek)\n",
    "    def konus(self) -> str:\n",
    "        return f\"{self.isim} konuşuyor.\"\n",
    "\n",
    "\n",
    "class Hoca(Insan):\n",
    "    \"\"\"\n",
    "    Insan'dan kalıtım.\n",
    "    - brans: str\n",
    "    \"\"\"\n",
    "    def __init__(self, isim: str, yas: int, cinsiyet: str, brans: str):\n",
    "        super().__init__(isim, yas, cinsiyet)\n",
    "        self.brans = brans\n",
    "\n",
    "    # Polymorphism: Hoca'ya özgü davranış\n",
    "    def konus(self) -> str:\n",
    "        return f\"{self.isim} adlı hoca {self.brans} dersini anlatıyor.\"\n",
    "\n",
    "\n",
    "class Ogrenci(Insan):\n",
    "    \"\"\"\n",
    "    Insan'dan kalıtım.\n",
    "    - sinif: str\n",
    "    - __okul_no: int (private - encapsulation)\n",
    "    \"\"\"\n",
    "    def __init__(self, isim: str, yas: int, cinsiyet: str, sinif: str, okul_no: int):\n",
    "        super().__init__(isim, yas, cinsiyet)\n",
    "        self.sinif = sinif\n",
    "        self.__okul_no = None  # set_okul_no ile doğrulansın\n",
    "        self.set_okul_no(okul_no)\n",
    "\n",
    "    # Encapsulation: getter / setter\n",
    "    def get_okul_no(self) -> int:\n",
    "        return self.__okul_no\n",
    "\n",
    "    def set_okul_no(self, yeni_no: int) -> None:\n",
    "        if not isinstance(yeni_no, int):\n",
    "            raise TypeError(\"okul_no tamsayı olmalıdır\")\n",
    "        if yeni_no <= 0:\n",
    "            raise ValueError(\"okul_no pozitif olmalıdır\")\n",
    "        self.__okul_no = yeni_no\n",
    "\n",
    "    okul_no = property(get_okul_no, set_okul_no)\n",
    "\n",
    "    def katil(self) -> str:\n",
    "        return f\"{self.isim} adlı öğrenci {self.sinif} sınıfında derse katılıyor.\"\n",
    "\n",
    "    # Polymorphism: Ogrenci için konus farklı bir mesaj döndürsün\n",
    "    def konus(self) -> str:\n",
    "        return f\"{self.isim} adlı öğrenci derste söz alıyor.\"\n"
   ]
  },
  {
   "cell_type": "markdown",
   "id": "bac7ce05",
   "metadata": {},
   "source": [
    "## Ana Program — Nesne Oluşturma ve Çağrılar"
   ]
  },
  {
   "cell_type": "code",
   "execution_count": null,
   "id": "99a880de",
   "metadata": {},
   "outputs": [],
   "source": [
    "\n",
    "# Nesneleri oluşturalım\n",
    "i1 = Insan(\"Ayşe\", 30, \"Kadın\")\n",
    "h1 = Hoca(\"Mehmet Hoca\", 45, \"Erkek\", \"Matematik\")\n",
    "o1 = Ogrenci(\"Deniz\", 19, \"Kadın\", \"10-A\", 1234)\n",
    "\n",
    "# Bilgi verme\n",
    "print(i1.bilgi_ver())\n",
    "print(h1.bilgi_ver())\n",
    "print(o1.bilgi_ver())\n",
    "\n",
    "# İlgili metotlar\n",
    "print(h1.konus())  # Hoca'nın konus()\n",
    "print(o1.katil())  # Ogrenci'nin katil()\n",
    "print(o1.konus())  # Ogrenci'nin konus() — polymorphism\n",
    "\n",
    "# Kapsülleme gösterimi: setter/getter\n",
    "o1.set_okul_no(5678)\n",
    "i1.set_yas(31)\n",
    "print(\"Güncellenmiş yaş:\", i1.get_yas())\n",
    "print(\"Güncellenmiş okul no:\", o1.get_okul_no())\n",
    "\n",
    "# Basit doğrulama (hata yakalama örnekleri — yorumu kaldırarak deneyebilirsiniz)\n",
    "# i1.set_yas(-5)       # ValueError\n",
    "# o1.set_okul_no(0)    # ValueError\n",
    "# o1.set_okul_no(\"x\")  # TypeError\n"
   ]
  },
  {
   "cell_type": "markdown",
   "id": "9884b48e",
   "metadata": {},
   "source": [
    "## Hızlı Kontroller (Basit Doğrulamalar)"
   ]
  },
  {
   "cell_type": "code",
   "execution_count": null,
   "id": "16e7d284",
   "metadata": {},
   "outputs": [],
   "source": [
    "\n",
    "assert \"İsim: Ayşe\" in i1.bilgi_ver()\n",
    "assert \"Matematik dersini anlatıyor\" in h1.konus()\n",
    "assert \"derse katılıyor\" in o1.katil()\n",
    "assert isinstance(i1.get_yas(), int)\n",
    "assert isinstance(o1.get_okul_no(), int)\n",
    "print(\"Tüm doğrulamalar geçti ✅\")\n"
   ]
  }
 ],
 "metadata": {
  "language_info": {
   "name": "python"
  }
 },
 "nbformat": 4,
 "nbformat_minor": 5
}
